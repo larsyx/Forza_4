{
  "nbformat": 4,
  "nbformat_minor": 0,
  "metadata": {
    "colab": {
      "name": "Untitled1.ipynb",
      "provenance": [],
      "collapsed_sections": [],
      "authorship_tag": "ABX9TyMGrzce785dPSWsMLIUin34",
      "include_colab_link": true
    },
    "kernelspec": {
      "name": "python3",
      "display_name": "Python 3"
    },
    "language_info": {
      "name": "python"
    }
  },
  "cells": [
    {
      "cell_type": "markdown",
      "metadata": {
        "id": "view-in-github",
        "colab_type": "text"
      },
      "source": [
        "<a href=\"https://colab.research.google.com/github/larsyx/Forza_4/blob/main/Untitled1.ipynb\" target=\"_parent\"><img src=\"https://colab.research.google.com/assets/colab-badge.svg\" alt=\"Open In Colab\"/></a>"
      ]
    },
    {
      "cell_type": "code",
      "execution_count": 15,
      "metadata": {
        "id": "yK8CKB-bSnYp"
      },
      "outputs": [],
      "source": [
        "from __future__ import division, print_function, unicode_literals\n",
        "\n",
        "import numpy as np\n",
        "import os\n",
        "import matplotlib.pyplot as plt\n",
        "import pandas as pd\n",
        "\n",
        "\n",
        "%matplotlib inline\n",
        "import matplotlib as mpl\n",
        "import matplotlib.pyplot as plt\n",
        "mpl.rc('axes', labelsize=14)\n",
        "mpl.rc('xtick', labelsize=12)\n",
        "mpl.rc('ytick', labelsize=12)\n",
        "\n",
        "#Creazione cartella immagini e salvataggio foto\n",
        "PROJECT_ROOT_DIR =\".\"\n",
        "IMAGES_PATH = os.path.join(PROJECT_ROOT_DIR, \"images\")\n",
        "os.makedirs(IMAGES_PATH, exist_ok=True)\n",
        "\n",
        "def save_fig(fig_id, tight_layout=True):\n",
        "  path = os.path.join(PROJECT_ROOT_DIR, \"images\", fig_id + \".png\")\n",
        "  print(\"Salva immagine \", fig_id )\n",
        "  if tight_layout:\n",
        "    plt.tight_layout()\n",
        "\n",
        "  plt.savefig(path, format='png', dpi=300)\n",
        "\n",
        "\n"
      ]
    },
    {
      "cell_type": "code",
      "source": [
        "import os\n",
        "import tarfile\n",
        "from six.moves import urllib\n",
        "\n",
        "\n",
        "DOWNLOAD_ROOT = \"https://raw.githubusercontent.com/larsyx/Vulnerability-Detection/main/Dataset\"\n",
        "FILE_PATH = os.path.join(\"vulnerability\")\n",
        "FILE_URL1 = DOWNLOAD_ROOT + \"/dataset_spring-framework.csv\"\n",
        "FILE_URL2 = DOWNLOAD_ROOT + \"/dataset_uaa.csv\"\n",
        "\n",
        "\n",
        "def fetch_file_data1( file_url , file_path1 = FILE_PATH):\n",
        "  os.makedirs(file_path1, exist_ok=True)\n",
        "\n",
        "  list_words = file_url.split(\"/\")\n",
        "  file_name = list_words[len(list_words)-1]\n",
        "\n",
        "  json_path1= os.path.join(file_path1, file_name)\n",
        "  urllib.request.urlretrieve(file_url, json_path1)\n",
        "\n",
        "fetch_file_data1(FILE_URL1)\n",
        "fetch_file_data1(FILE_URL2)"
      ],
      "metadata": {
        "id": "InX5kszAK7zb"
      },
      "execution_count": 16,
      "outputs": []
    },
    {
      "cell_type": "code",
      "source": [
        "#carica i dati dataset 1\n",
        "datapath = os.path.join( \"vulnerability\" , \"\")\n",
        "dataset = pd.read_csv(datapath + \"dataset_spring-framework.csv\")\n",
        "print(len(dataset))\n"
      ],
      "metadata": {
        "id": "IHwKOTYCPAFZ",
        "colab": {
          "base_uri": "https://localhost:8080/"
        },
        "outputId": "58c8c7c2-f838-4ce7-ddfa-8757f977b5ce"
      },
      "execution_count": 17,
      "outputs": [
        {
          "output_type": "stream",
          "name": "stdout",
          "text": [
            "7047\n"
          ]
        }
      ]
    },
    {
      "cell_type": "code",
      "source": [
        "#carica i dati dataset 2\n",
        "datapath = os.path.join( \"vulnerability\" , \"\")\n",
        "dataset = pd.read_csv(datapath + \"dataset_uaa.csv\")\n",
        "print(len(dataset))"
      ],
      "metadata": {
        "colab": {
          "base_uri": "https://localhost:8080/"
        },
        "id": "5mef08tWIgZK",
        "outputId": "207fb638-77dd-4b91-c468-0794d943b9da"
      },
      "execution_count": null,
      "outputs": [
        {
          "output_type": "stream",
          "name": "stdout",
          "text": [
            "791\n"
          ]
        }
      ]
    },
    {
      "cell_type": "code",
      "source": [
        "print(dataset.describe())"
      ],
      "metadata": {
        "id": "bB2WEjcdRNTQ"
      },
      "execution_count": null,
      "outputs": []
    },
    {
      "cell_type": "code",
      "source": [
        "dataset['VULNERABLE'].describe()"
      ],
      "metadata": {
        "id": "tw3wlEbiRzqv"
      },
      "execution_count": null,
      "outputs": []
    },
    {
      "cell_type": "code",
      "source": [
        "print(dataset.isnull().sum())\n",
        "\n"
      ],
      "metadata": {
        "id": "AKLU12ItGALQ"
      },
      "execution_count": null,
      "outputs": []
    },
    {
      "cell_type": "code",
      "source": [
        "dataset.plot(x='WMC', y='RFC',kind='scatter')\n",
        "plt.show()"
      ],
      "metadata": {
        "id": "pOVcDXKh19tK",
        "colab": {
          "base_uri": "https://localhost:8080/",
          "height": 286
        },
        "outputId": "f55f9a68-a5c1-4ba0-a606-fb847862115e"
      },
      "execution_count": 11,
      "outputs": [
        {
          "output_type": "display_data",
          "data": {
            "text/plain": [
              "<Figure size 432x288 with 1 Axes>"
            ],
            "image/png": "[encoded data removed]"
          },
          "metadata": {
            "needs_background": "light"
          }
        }
      ]
    },
    {
      "cell_type": "code",
      "source": [
        "#Divisione variabili dipendenti x e indipendenti y\n",
        "\n",
        "y = dataset.iloc[:,2]\n",
        "x = dataset.iloc[: , 3:17]\n",
        "\n",
        "#print( x)"
      ],
      "metadata": {
        "id": "Z0MFNmQO190x"
      },
      "execution_count": 18,
      "outputs": []
    },
    {
      "cell_type": "code",
      "source": [
        "pd.value_counts(dataset['VULNERABLE']).plot.bar()\n",
        "plt.xlabel('VULNERABLE')\n",
        "plt.ylabel('Frequency')\n",
        "dataset['VULNERABLE'].value_counts()"
      ],
      "metadata": {
        "id": "oDFt-0eT3gmG",
        "colab": {
          "base_uri": "https://localhost:8080/",
          "height": 356
        },
        "outputId": "e16de66f-80cc-440f-91a4-a2b2061225e0"
      },
      "execution_count": 19,
      "outputs": [
        {
          "output_type": "execute_result",
          "data": {
            "text/plain": [
              "False    6988\n",
              "True       59\n",
              "Name: VULNERABLE, dtype: int64"
            ]
          },
          "metadata": {},
          "execution_count": 19
        },
        {
          "output_type": "display_data",
          "data": {
            "text/plain": [
              "<Figure size 432x288 with 1 Axes>"
            ],
            "image/png": "[encoded data removed]"
          },
          "metadata": {
            "needs_background": "light"
          }
        }
      ]
    },
    {
      "cell_type": "code",
      "source": [
        "#dataset split\n",
        "from sklearn.model_selection import train_test_split\n",
        "\n",
        "x_train, x_test, y_train, y_test = train_test_split(x, y, test_size=0.2, random_state=42)\n",
        "\n",
        "print(\"Number transactions X_train dataset: \", x_train.shape)\n",
        "print(\"Number transactions y_train dataset: \", y_train.shape)\n",
        "print(\"Number transactions X_test dataset: \", x_test.shape)\n",
        "print(\"Number transactions y_test dataset: \", y_test.shape) \n"
      ],
      "metadata": {
        "colab": {
          "base_uri": "https://localhost:8080/"
        },
        "id": "0bbFS5Derzp7",
        "outputId": "9d9b7cc5-d4ce-4997-a30c-da0d2283e765"
      },
      "execution_count": 20,
      "outputs": [
        {
          "output_type": "stream",
          "name": "stdout",
          "text": [
            "Number transactions X_train dataset:  (5637, 14)\n",
            "Number transactions y_train dataset:  (5637,)\n",
            "Number transactions X_test dataset:  (1410, 14)\n",
            "Number transactions y_test dataset:  (1410,)\n"
          ]
        }
      ]
    },
    {
      "cell_type": "code",
      "source": [
        "#oversampling\n",
        "from imblearn.over_sampling import SMOTE\n",
        "\n",
        "\n",
        "print(\"Before OverSampling, counts of label '1': {}\".format(sum(y_train == 1)))\n",
        "print(\"Before OverSampling, counts of label '0': {} \\n\".format(sum(y_train == 0)))\n",
        "\n",
        "st = SMOTE(random_state=42)\n",
        "\n",
        "x_train_res, y_train_res =st.fit_resample(x_train, y_train)\n",
        "\n",
        "print(\"After OverSampling, counts of label '1': {}\".format(sum(y_train_res == 1)))\n",
        "print(\"After OverSampling, counts of label '0': {}\".format(sum(y_train_res == 0)))\n",
        "\n",
        "\n"
      ],
      "metadata": {
        "colab": {
          "base_uri": "https://localhost:8080/"
        },
        "id": "N9IaEvAasRT5",
        "outputId": "bf5aec8e-c22b-49cf-8626-3bb5368a0ee1"
      },
      "execution_count": 24,
      "outputs": [
        {
          "output_type": "stream",
          "name": "stdout",
          "text": [
            "Before OverSampling, counts of label '1': 46\n",
            "Before OverSampling, counts of label '0': 5591 \n",
            "\n",
            "After OverSampling, counts of label '1': 5591\n",
            "After OverSampling, counts of label '0': 5591\n"
          ]
        }
      ]
    },
    {
      "cell_type": "code",
      "source": [
        "# data scaling\n",
        "\n",
        "from sklearn.preprocessing import MinMaxScaler\n",
        "\n",
        "scl = MinMaxScaler(feature_range=(0,10))\n",
        "x_train_res = scl.fit_transform(x_train_res)\n",
        "x_test = scl.fit_transform(x_test)\n",
        "\n",
        "print(x_train_res)"
      ],
      "metadata": {
        "colab": {
          "base_uri": "https://localhost:8080/"
        },
        "id": "02KM9VvKyrZf",
        "outputId": "2ab6b2a4-1840-4760-9786-0205e0a3fac5"
      },
      "execution_count": 25,
      "outputs": [
        {
          "output_type": "stream",
          "name": "stdout",
          "text": [
            "[[5.88141026e-01 1.23329908e-01 1.10344828e+00 ... 0.00000000e+00\n",
            "  9.24855491e-01 0.00000000e+00]\n",
            " [1.49038462e-01 0.00000000e+00 8.27586207e-01 ... 1.36363636e+00\n",
            "  3.46820809e-01 1.24481328e-01]\n",
            " [1.97115385e-01 1.02774923e-03 8.27586207e-01 ... 9.09090909e-01\n",
            "  3.46820809e-01 8.29875519e-02]\n",
            " ...\n",
            " [6.74679487e-01 3.59712230e-02 1.86206897e+00 ... 1.36363636e+00\n",
            "  8.67052023e-01 1.65975104e-01]\n",
            " [1.33653846e+00 7.29701953e-01 3.17241379e+00 ... 7.72727273e+00\n",
            "  2.31213873e+00 7.88381743e-01]\n",
            " [1.67788462e+00 9.17780062e-01 1.24137931e+00 ... 3.18181818e+00\n",
            "  2.48554913e+00 3.31950207e-01]]\n"
          ]
        }
      ]
    },
    {
      "cell_type": "code",
      "source": [
        "#feature selection supervised\n",
        "\n",
        "from sklearn.feature_selection import SelectKBest\n",
        "from sklearn.feature_selection import chi2, f_regression\n",
        "from numpy import set_printoptions\n",
        "\n",
        "fs = SelectKBest(score_func=chi2,k=7)\n",
        "fs.fit_transform(x_train_res, y_train_res)\n",
        "#print(fs[:5])\n",
        "\n",
        "X_new_train_res = fs.transform(x_train_res)\n",
        "X_new_test = fs.transform(x_test)\n",
        "print(X_new_train_res.shape)\n",
        "\n",
        "\n",
        "x.columns[fs.get_support(indices=True)]\n",
        "x.columns[fs.get_support(indices=True)].tolist()"
      ],
      "metadata": {
        "colab": {
          "base_uri": "https://localhost:8080/"
        },
        "id": "BVi-krO3FkHR",
        "outputId": "fa0c389c-4454-4960-e7c8-eb45ef096c5f"
      },
      "execution_count": 27,
      "outputs": [
        {
          "output_type": "stream",
          "name": "stdout",
          "text": [
            "(11182, 7)\n"
          ]
        },
        {
          "output_type": "execute_result",
          "data": {
            "text/plain": [
              "['CBO',\n",
              " 'McCabeMetric',\n",
              " 'HalsteadVocaulary',\n",
              " 'HalsteadLenght',\n",
              " 'HalsteadVolume',\n",
              " 'DAC2',\n",
              " 'WMC']"
            ]
          },
          "metadata": {},
          "execution_count": 27
        }
      ]
    },
    {
      "cell_type": "code",
      "source": [
        "# Decision Tree\n",
        "\n",
        "from sklearn.tree import DecisionTreeClassifier\n",
        "from sklearn import metrics\n",
        "from sklearn.metrics import classification_report, confusion_matrix\n",
        "\n",
        "tree_model = DecisionTreeClassifier(max_depth=5, random_state=42)\n",
        "#The maximum depth of the tree. If None, then nodes are expanded until all leaves are pure or until all leaves contain less than min_samples_split samples.\n",
        "\n",
        "tree_model.fit(X_new_train_res, y_train_res)\n",
        "\n",
        "y_pred = tree_model.predict(X_new_test)\n",
        "\n",
        "labels = np.unique(y_test)\n",
        "print(confusion_matrix(y_test, y_pred, labels=labels))\n",
        "print(classification_report(y_test, y_pred))\n",
        "\n",
        "#Overall, how often is the classifier correct?\n",
        "print(\"Accuracy:\",metrics.accuracy_score(y_test, y_pred))"
      ],
      "metadata": {
        "colab": {
          "base_uri": "https://localhost:8080/"
        },
        "id": "Di81VvjbF32u",
        "outputId": "d681374f-6abc-4da3-edcf-9bf23fbc75a2"
      },
      "execution_count": 28,
      "outputs": [
        {
          "output_type": "stream",
          "name": "stdout",
          "text": [
            "[[886 511]\n",
            " [  4   9]]\n",
            "              precision    recall  f1-score   support\n",
            "\n",
            "       False       1.00      0.63      0.77      1397\n",
            "        True       0.02      0.69      0.03        13\n",
            "\n",
            "    accuracy                           0.63      1410\n",
            "   macro avg       0.51      0.66      0.40      1410\n",
            "weighted avg       0.99      0.63      0.77      1410\n",
            "\n",
            "Accuracy: 0.6347517730496454\n"
          ]
        }
      ]
    },
    {
      "cell_type": "code",
      "source": [
        "# Naive Bayes\n",
        "\n",
        "from sklearn.naive_bayes import BernoulliNB\n",
        "\n",
        "NB = BernoulliNB()\n",
        "\n",
        "NB.fit(X_new_train_res, y_train_res)\n",
        "\n",
        "predictions = NB.predict(X_new_test)\n",
        "\n",
        "print(confusion_matrix(y_test, predictions))\n",
        "\n",
        "#Overall, how often is the classifier correct?\n",
        "\n",
        "print(classification_report(y_test, predictions))"
      ],
      "metadata": {
        "colab": {
          "base_uri": "https://localhost:8080/"
        },
        "id": "J9A5eEQcGdar",
        "outputId": "76c1785d-714c-42b0-d69c-70efc9c789d4"
      },
      "execution_count": 29,
      "outputs": [
        {
          "output_type": "stream",
          "name": "stdout",
          "text": [
            "[[566 831]\n",
            " [  2  11]]\n",
            "              precision    recall  f1-score   support\n",
            "\n",
            "       False       1.00      0.41      0.58      1397\n",
            "        True       0.01      0.85      0.03        13\n",
            "\n",
            "    accuracy                           0.41      1410\n",
            "   macro avg       0.50      0.63      0.30      1410\n",
            "weighted avg       0.99      0.41      0.57      1410\n",
            "\n"
          ]
        }
      ]
    },
    {
      "cell_type": "code",
      "source": [
        "# Random Forest\n",
        "\n",
        "from sklearn.ensemble import RandomForestClassifier\n",
        "from sklearn.metrics import confusion_matrix, classification_report\n",
        "\n",
        "forest = RandomForestClassifier(max_depth= 5, random_state=2)\n",
        "\n",
        "forest.fit(X_new_train_res, y_train_res)\n",
        "\n",
        "y_pred = forest.predict(X_new_test)\n",
        "labels = np.unique(y_test)\n",
        "\n",
        "\n",
        "\n",
        "print(confusion_matrix(y_test, y_pred))\n",
        "\n",
        "print(classification_report(y_test, y_pred))\n"
      ],
      "metadata": {
        "colab": {
          "base_uri": "https://localhost:8080/"
        },
        "id": "Pf27MXmWejrY",
        "outputId": "730d1c28-bcea-4ee2-a9d2-35e8750b3df4"
      },
      "execution_count": 30,
      "outputs": [
        {
          "output_type": "stream",
          "name": "stdout",
          "text": [
            "[[1183  214]\n",
            " [   8    5]]\n",
            "              precision    recall  f1-score   support\n",
            "\n",
            "       False       0.99      0.85      0.91      1397\n",
            "        True       0.02      0.38      0.04        13\n",
            "\n",
            "    accuracy                           0.84      1410\n",
            "   macro avg       0.51      0.62      0.48      1410\n",
            "weighted avg       0.98      0.84      0.91      1410\n",
            "\n"
          ]
        }
      ]
    },
    {
      "cell_type": "code",
      "source": [
        "# SVM Support Vector Machines\n",
        "\n",
        "from sklearn import svm\n",
        "from sklearn.metrics import confusion_matrix, classification_report\n",
        "\n",
        "svm_model = svm.SVC()\n",
        "svm_model.fit(X_new_train_res, y_train_res)\n",
        "y_pred = svm_model.predict(X_new_test)\n",
        "\n",
        "print(confusion_matrix(y_test, y_pred))\n",
        "\n",
        "print(classification_report(y_test, y_pred))\n",
        "\n"
      ],
      "metadata": {
        "colab": {
          "base_uri": "https://localhost:8080/"
        },
        "id": "clM7JboVi7Ng",
        "outputId": "accc1aff-16e2-4ad3-9d5d-a0c09e7d6cee"
      },
      "execution_count": 31,
      "outputs": [
        {
          "output_type": "stream",
          "name": "stdout",
          "text": [
            "[[1095  302]\n",
            " [   9    4]]\n",
            "              precision    recall  f1-score   support\n",
            "\n",
            "       False       0.99      0.78      0.88      1397\n",
            "        True       0.01      0.31      0.03        13\n",
            "\n",
            "    accuracy                           0.78      1410\n",
            "   macro avg       0.50      0.55      0.45      1410\n",
            "weighted avg       0.98      0.78      0.87      1410\n",
            "\n"
          ]
        }
      ]
    },
    {
      "cell_type": "code",
      "source": [
        "from sklearn.ensemble import AdaBoostClassifier\n",
        "from sklearn.metrics import confusion_matrix, classification_report\n",
        "\n",
        "adaboost_model = AdaBoostClassifier(random_state= 2)\n",
        "adaboost_model.fit(X_new_train_res, y_train_res)\n",
        "y_pred = adaboost_model.predict(X_new_test)\n",
        "\n",
        "print(confusion_matrix(y_test, y_pred))\n",
        "\n",
        "print(classification_report(y_test, y_pred))"
      ],
      "metadata": {
        "colab": {
          "base_uri": "https://localhost:8080/"
        },
        "id": "Rhgp_4bAkt_g",
        "outputId": "629e44a4-c2cd-43e9-cb36-0df68bb6a38d"
      },
      "execution_count": 32,
      "outputs": [
        {
          "output_type": "stream",
          "name": "stdout",
          "text": [
            "[[986 411]\n",
            " [  7   6]]\n",
            "              precision    recall  f1-score   support\n",
            "\n",
            "       False       0.99      0.71      0.83      1397\n",
            "        True       0.01      0.46      0.03        13\n",
            "\n",
            "    accuracy                           0.70      1410\n",
            "   macro avg       0.50      0.58      0.43      1410\n",
            "weighted avg       0.98      0.70      0.82      1410\n",
            "\n"
          ]
        }
      ]
    },
    {
      "cell_type": "code",
      "source": [
        "from sklearn.model_selection import GridSearchCV\n",
        "\n",
        "#The minimum number of samples required to split an internal node\n",
        "params = {'max_leaf_nodes': list(range(2, 100)), 'min_samples_split': [2, 3, 4]}\n",
        "#Exhaustive search over specified parameter values for an estimator.\n",
        "#Job to tun in parallel\n",
        "#Determines the cross-validation splitting strategy\n",
        "#Controls the verbosity: the higher, the more messages.\n",
        "grid_search_cv = GridSearchCV(DecisionTreeClassifier(random_state=42), params, n_jobs=-1, verbose=1, cv=3)\n",
        "\n",
        "grid_search_cv.fit(X_new_train_res, y_train_res)"
      ],
      "metadata": {
        "colab": {
          "base_uri": "https://localhost:8080/"
        },
        "id": "GzhQSdxpGpKI",
        "outputId": "59cdda81-ba3d-420b-8b3e-45e49492f070"
      },
      "execution_count": 33,
      "outputs": [
        {
          "output_type": "stream",
          "name": "stdout",
          "text": [
            "Fitting 3 folds for each of 294 candidates, totalling 882 fits\n"
          ]
        },
        {
          "output_type": "execute_result",
          "data": {
            "text/plain": [
              "GridSearchCV(cv=3, estimator=DecisionTreeClassifier(random_state=42), n_jobs=-1,\n",
              "             param_grid={'max_leaf_nodes': [2, 3, 4, 5, 6, 7, 8, 9, 10, 11, 12,\n",
              "                                            13, 14, 15, 16, 17, 18, 19, 20, 21,\n",
              "                                            22, 23, 24, 25, 26, 27, 28, 29, 30,\n",
              "                                            31, ...],\n",
              "                         'min_samples_split': [2, 3, 4]},\n",
              "             verbose=1)"
            ]
          },
          "metadata": {},
          "execution_count": 33
        }
      ]
    }
  ]
}